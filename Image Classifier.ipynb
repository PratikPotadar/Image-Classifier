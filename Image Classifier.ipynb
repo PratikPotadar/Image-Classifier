{
 "cells": [
  {
   "cell_type": "code",
   "execution_count": 1,
   "id": "8d2978b5",
   "metadata": {},
   "outputs": [],
   "source": [
    "import pandas as pd\n",
    "import numpy as np\n",
    "import tensorflow as tf\n",
    "from tensorflow import keras\n",
    "from matplotlib import pyplot as plt"
   ]
  },
  {
   "cell_type": "code",
   "execution_count": 2,
   "id": "c88a5939",
   "metadata": {},
   "outputs": [],
   "source": [
    "data = keras.datasets.fashion_mnist"
   ]
  },
  {
   "cell_type": "code",
   "execution_count": 3,
   "id": "8c5916f2",
   "metadata": {},
   "outputs": [],
   "source": [
    "(x_train_full,y_train_full),(x_test,y_test) = data.load_data()\n"
   ]
  },
  {
   "cell_type": "code",
   "execution_count": 4,
   "id": "0b139ade",
   "metadata": {},
   "outputs": [
    {
     "data": {
      "text/plain": [
       "<matplotlib.image.AxesImage at 0x1c63addd2d0>"
      ]
     },
     "execution_count": 4,
     "metadata": {},
     "output_type": "execute_result"
    },
    {
     "data": {
      "image/png": "[encoded data removed]",
      "text/plain": [
       "<Figure size 640x480 with 1 Axes>"
      ]
     },
     "metadata": {},
     "output_type": "display_data"
    }
   ],
   "source": [
    "plt.imshow(x_train_full[0])"
   ]
  },
  {
   "cell_type": "markdown",
   "id": "803bfe63",
   "metadata": {},
   "source": [
    "### Data Normalization"
   ]
  },
  {
   "cell_type": "code",
   "execution_count": 5,
   "id": "c9800109",
   "metadata": {},
   "outputs": [],
   "source": [
    "x_train_full = x_train_full / 255.0\n",
    "x_test = x_test / 255.0"
   ]
  },
  {
   "cell_type": "code",
   "execution_count": 6,
   "id": "60ef430c",
   "metadata": {},
   "outputs": [
    {
     "data": {
      "text/plain": [
       "<matplotlib.image.AxesImage at 0x1c6412852d0>"
      ]
     },
     "execution_count": 6,
     "metadata": {},
     "output_type": "execute_result"
    },
    {
     "data": {
      "image/png": "[encoded data removed]",
      "text/plain": [
       "<Figure size 640x480 with 1 Axes>"
      ]
     },
     "metadata": {},
     "output_type": "display_data"
    }
   ],
   "source": [
    "plt.imshow(x_test[0])"
   ]
  },
  {
   "cell_type": "markdown",
   "id": "15ae089d",
   "metadata": {},
   "source": [
    "### Validation, Train, Test"
   ]
  },
  {
   "cell_type": "code",
   "execution_count": 7,
   "id": "d98fa592",
   "metadata": {},
   "outputs": [],
   "source": [
    "x_train = x_train_full[:5000]\n",
    "y_train = y_train_full[:5000]\n",
    "\n",
    "x_valid = x_train_full[5000:]\n",
    "y_valid = y_train_full[5000:]\n"
   ]
  },
  {
   "cell_type": "code",
   "execution_count": 8,
   "id": "540ae2be",
   "metadata": {},
   "outputs": [],
   "source": [
    "np.random.seed(42)\n",
    "tf.random.set_seed(42)"
   ]
  },
  {
   "cell_type": "code",
   "execution_count": 9,
   "id": "aabbe49c",
   "metadata": {},
   "outputs": [],
   "source": [
    "model = keras.models.Sequential()"
   ]
  },
  {
   "cell_type": "code",
   "execution_count": 10,
   "id": "4ddda99d",
   "metadata": {},
   "outputs": [],
   "source": [
    "model.add(keras.layers.Flatten(input_shape = (28,28)))\n",
    "model.add(keras.layers.Dense(300,activation='relu'))\n",
    "model.add(keras.layers.Dense(100,activation='relu'))\n",
    "model.add(keras.layers.Dense(10,activation='softmax'))"
   ]
  },
  {
   "cell_type": "code",
   "execution_count": 11,
   "id": "d12894f5",
   "metadata": {},
   "outputs": [
    {
     "name": "stdout",
     "output_type": "stream",
     "text": [
      "Model: \"sequential\"\n",
      "_________________________________________________________________\n",
      " Layer (type)                Output Shape              Param #   \n",
      "=================================================================\n",
      " flatten (Flatten)           (None, 784)               0         \n",
      "                                                                 \n",
      " dense (Dense)               (None, 300)               235500    \n",
      "                                                                 \n",
      " dense_1 (Dense)             (None, 100)               30100     \n",
      "                                                                 \n",
      " dense_2 (Dense)             (None, 10)                1010      \n",
      "                                                                 \n",
      "=================================================================\n",
      "Total params: 266,610\n",
      "Trainable params: 266,610\n",
      "Non-trainable params: 0\n",
      "_________________________________________________________________\n"
     ]
    }
   ],
   "source": [
    "model.summary()"
   ]
  },
  {
   "cell_type": "code",
   "execution_count": 12,
   "id": "9f15f994",
   "metadata": {},
   "outputs": [
    {
     "name": "stdout",
     "output_type": "stream",
     "text": [
      "You must install pydot (`pip install pydot`) and install graphviz (see instructions at https://graphviz.gitlab.io/download/) for plot_model to work.\n"
     ]
    }
   ],
   "source": [
    "import pydot\n",
    "keras.utils.plot_model(model)"
   ]
  },
  {
   "cell_type": "code",
   "execution_count": 13,
   "id": "eaa2bbb0",
   "metadata": {},
   "outputs": [],
   "source": [
    "import pydot"
   ]
  },
  {
   "cell_type": "code",
   "execution_count": 14,
   "id": "be8cd655",
   "metadata": {},
   "outputs": [
    {
     "name": "stdout",
     "output_type": "stream",
     "text": [
      "You must install pydot (`pip install pydot`) and install graphviz (see instructions at https://graphviz.gitlab.io/download/) for plot_model to work.\n"
     ]
    }
   ],
   "source": [
    "keras.utils.plot_model(model)"
   ]
  },
  {
   "cell_type": "code",
   "execution_count": null,
   "id": "552f8c01",
   "metadata": {},
   "outputs": [],
   "source": [
    "\n"
   ]
  },
  {
   "cell_type": "code",
   "execution_count": 15,
   "id": "359f9fe3",
   "metadata": {},
   "outputs": [],
   "source": [
    "model.compile(loss= 'sparse_categorical_crossentropy',\n",
    "             optimizer='sgd',\n",
    "             metrics=['accuracy'])"
   ]
  },
  {
   "cell_type": "code",
   "execution_count": 16,
   "id": "91de1af4",
   "metadata": {},
   "outputs": [
    {
     "name": "stdout",
     "output_type": "stream",
     "text": [
      "Epoch 1/30\n",
      "157/157 [==============================] - 12s 66ms/step - loss: 1.4525 - accuracy: 0.5626 - val_loss: 1.0439 - val_accuracy: 0.6731\n",
      "Epoch 2/30\n",
      "157/157 [==============================] - 7s 42ms/step - loss: 0.8845 - accuracy: 0.7142 - val_loss: 0.8491 - val_accuracy: 0.7124\n",
      "Epoch 3/30\n",
      "157/157 [==============================] - 7s 46ms/step - loss: 0.7362 - accuracy: 0.7594 - val_loss: 0.7346 - val_accuracy: 0.7456\n",
      "Epoch 4/30\n",
      "157/157 [==============================] - 6s 39ms/step - loss: 0.6584 - accuracy: 0.7834 - val_loss: 0.6808 - val_accuracy: 0.7666\n",
      "Epoch 5/30\n",
      "157/157 [==============================] - 6s 36ms/step - loss: 0.6098 - accuracy: 0.7936 - val_loss: 0.6955 - val_accuracy: 0.7606\n",
      "Epoch 6/30\n",
      "157/157 [==============================] - 6s 37ms/step - loss: 0.5795 - accuracy: 0.8104 - val_loss: 0.6040 - val_accuracy: 0.7904\n",
      "Epoch 7/30\n",
      "157/157 [==============================] - 6s 36ms/step - loss: 0.5521 - accuracy: 0.8166 - val_loss: 0.5913 - val_accuracy: 0.7906\n",
      "Epoch 8/30\n",
      "157/157 [==============================] - 6s 37ms/step - loss: 0.5236 - accuracy: 0.8286 - val_loss: 0.5693 - val_accuracy: 0.8015\n",
      "Epoch 9/30\n",
      "157/157 [==============================] - 6s 37ms/step - loss: 0.5072 - accuracy: 0.8334 - val_loss: 0.6487 - val_accuracy: 0.7557\n",
      "Epoch 10/30\n",
      "157/157 [==============================] - 6s 36ms/step - loss: 0.4923 - accuracy: 0.8360 - val_loss: 0.5321 - val_accuracy: 0.8156\n",
      "Epoch 11/30\n",
      "157/157 [==============================] - 6s 37ms/step - loss: 0.4744 - accuracy: 0.8456 - val_loss: 0.5424 - val_accuracy: 0.8103\n",
      "Epoch 12/30\n",
      "157/157 [==============================] - 7s 44ms/step - loss: 0.4632 - accuracy: 0.8472 - val_loss: 0.5633 - val_accuracy: 0.8089\n",
      "Epoch 13/30\n",
      "157/157 [==============================] - 11s 72ms/step - loss: 0.4540 - accuracy: 0.8502 - val_loss: 0.5334 - val_accuracy: 0.8177\n",
      "Epoch 14/30\n",
      "157/157 [==============================] - 6s 38ms/step - loss: 0.4403 - accuracy: 0.8542 - val_loss: 0.5644 - val_accuracy: 0.7927\n",
      "Epoch 15/30\n",
      "157/157 [==============================] - 5s 35ms/step - loss: 0.4287 - accuracy: 0.8574 - val_loss: 0.5743 - val_accuracy: 0.7939\n",
      "Epoch 16/30\n",
      "157/157 [==============================] - 7s 45ms/step - loss: 0.4256 - accuracy: 0.8564 - val_loss: 0.5251 - val_accuracy: 0.8193\n",
      "Epoch 17/30\n",
      "157/157 [==============================] - 7s 46ms/step - loss: 0.4168 - accuracy: 0.8618 - val_loss: 0.5104 - val_accuracy: 0.8219\n",
      "Epoch 18/30\n",
      "157/157 [==============================] - 6s 38ms/step - loss: 0.4039 - accuracy: 0.8648 - val_loss: 0.7775 - val_accuracy: 0.7120\n",
      "Epoch 19/30\n",
      "157/157 [==============================] - 7s 47ms/step - loss: 0.4084 - accuracy: 0.8616 - val_loss: 0.7268 - val_accuracy: 0.7348\n",
      "Epoch 20/30\n",
      "157/157 [==============================] - 6s 36ms/step - loss: 0.3933 - accuracy: 0.8656 - val_loss: 0.5731 - val_accuracy: 0.8110\n",
      "Epoch 21/30\n",
      "157/157 [==============================] - 6s 35ms/step - loss: 0.3859 - accuracy: 0.8704 - val_loss: 0.5351 - val_accuracy: 0.8127\n",
      "Epoch 22/30\n",
      "157/157 [==============================] - 6s 38ms/step - loss: 0.3780 - accuracy: 0.8766 - val_loss: 0.5887 - val_accuracy: 0.7808\n",
      "Epoch 23/30\n",
      "157/157 [==============================] - 9s 56ms/step - loss: 0.3751 - accuracy: 0.8750 - val_loss: 0.4789 - val_accuracy: 0.8319\n",
      "Epoch 24/30\n",
      "157/157 [==============================] - 7s 45ms/step - loss: 0.3639 - accuracy: 0.8776 - val_loss: 0.5256 - val_accuracy: 0.8097\n",
      "Epoch 25/30\n",
      "157/157 [==============================] - 6s 39ms/step - loss: 0.3575 - accuracy: 0.8808 - val_loss: 0.4918 - val_accuracy: 0.8299\n",
      "Epoch 26/30\n",
      "157/157 [==============================] - 6s 38ms/step - loss: 0.3571 - accuracy: 0.8786 - val_loss: 0.4932 - val_accuracy: 0.8304\n",
      "Epoch 27/30\n",
      "157/157 [==============================] - 6s 39ms/step - loss: 0.3521 - accuracy: 0.8792 - val_loss: 0.5705 - val_accuracy: 0.8155\n",
      "Epoch 28/30\n",
      "157/157 [==============================] - 5s 35ms/step - loss: 0.3481 - accuracy: 0.8840 - val_loss: 0.6265 - val_accuracy: 0.7869\n",
      "Epoch 29/30\n",
      "157/157 [==============================] - 6s 37ms/step - loss: 0.3433 - accuracy: 0.8804 - val_loss: 0.7013 - val_accuracy: 0.7674\n",
      "Epoch 30/30\n",
      "157/157 [==============================] - 6s 38ms/step - loss: 0.3396 - accuracy: 0.8884 - val_loss: 0.4917 - val_accuracy: 0.8298\n"
     ]
    }
   ],
   "source": [
    "model_h = model.fit(x_train,y_train,validation_data=(x_valid,y_valid),epochs=30)"
   ]
  },
  {
   "cell_type": "code",
   "execution_count": 17,
   "id": "541452b2",
   "metadata": {},
   "outputs": [
    {
     "data": {
      "text/plain": [
       "(0.0, 1.0)"
      ]
     },
     "execution_count": 17,
     "metadata": {},
     "output_type": "execute_result"
    },
    {
     "data": {
      "image/png": "[encoded data removed]",
      "text/plain": [
       "<Figure size 640x480 with 1 Axes>"
      ]
     },
     "metadata": {},
     "output_type": "display_data"
    }
   ],
   "source": [
    "pd.DataFrame(model_h.history).plot()\n",
    "plt.ylim(0,1)"
   ]
  },
  {
   "cell_type": "code",
   "execution_count": 18,
   "id": "5e2aa27f",
   "metadata": {},
   "outputs": [
    {
     "name": "stdout",
     "output_type": "stream",
     "text": [
      "313/313 [==============================] - 1s 4ms/step - loss: 0.5145 - accuracy: 0.8205\n"
     ]
    },
    {
     "data": {
      "text/plain": [
       "[0.5144643783569336, 0.8205000162124634]"
      ]
     },
     "execution_count": 18,
     "metadata": {},
     "output_type": "execute_result"
    }
   ],
   "source": [
    "model.evaluate(x_test,y_test)"
   ]
  },
  {
   "cell_type": "code",
   "execution_count": 19,
   "id": "0e452468",
   "metadata": {},
   "outputs": [
    {
     "name": "stdout",
     "output_type": "stream",
     "text": [
      "1/1 [==============================] - 0s 304ms/step\n"
     ]
    },
    {
     "data": {
      "text/plain": [
       "array([[0.  , 0.  , 0.  , 0.  , 0.  , 0.01, 0.  , 0.11, 0.  , 0.88],\n",
       "       [0.  , 0.  , 1.  , 0.  , 0.  , 0.  , 0.  , 0.  , 0.  , 0.  ],\n",
       "       [0.  , 1.  , 0.  , 0.  , 0.  , 0.  , 0.  , 0.  , 0.  , 0.  ],\n",
       "       [0.  , 1.  , 0.  , 0.  , 0.  , 0.  , 0.  , 0.  , 0.  , 0.  ],\n",
       "       [0.07, 0.  , 0.11, 0.02, 0.03, 0.  , 0.78, 0.  , 0.  , 0.  ]],\n",
       "      dtype=float32)"
      ]
     },
     "execution_count": 19,
     "metadata": {},
     "output_type": "execute_result"
    }
   ],
   "source": [
    "y_pred = model.predict(x_test[:5])\n",
    "y_pred.round(2)"
   ]
  },
  {
   "cell_type": "code",
   "execution_count": 20,
   "id": "7c4a07dc",
   "metadata": {},
   "outputs": [
    {
     "data": {
      "text/plain": [
       "array([9, 2, 1, 1, 6], dtype=uint8)"
      ]
     },
     "execution_count": 20,
     "metadata": {},
     "output_type": "execute_result"
    }
   ],
   "source": [
    "y_test[:5]"
   ]
  },
  {
   "cell_type": "code",
   "execution_count": 21,
   "id": "277d817d",
   "metadata": {},
   "outputs": [],
   "source": [
    "model.save('Image_Classifier_Model/model.h5')"
   ]
  },
  {
   "cell_type": "code",
   "execution_count": null,
   "id": "02b91553",
   "metadata": {},
   "outputs": [],
   "source": []
  },
  {
   "cell_type": "code",
   "execution_count": null,
   "id": "51fa9005",
   "metadata": {},
   "outputs": [],
   "source": []
  }
 ],
 "metadata": {
  "kernelspec": {
   "display_name": "Python 3 (ipykernel)",
   "language": "python",
   "name": "python3"
  },
  "language_info": {
   "codemirror_mode": {
    "name": "ipython",
    "version": 3
   },
   "file_extension": ".py",
   "mimetype": "text/x-python",
   "name": "python",
   "nbconvert_exporter": "python",
   "pygments_lexer": "ipython3",
   "version": "3.11.3"
  }
 },
 "nbformat": 4,
 "nbformat_minor": 5
}
